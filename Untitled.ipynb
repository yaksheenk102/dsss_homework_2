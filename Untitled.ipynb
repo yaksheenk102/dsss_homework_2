{
 "cells": [
  {
   "cell_type": "code",
   "execution_count": 2,
   "id": "53ab271e",
   "metadata": {},
   "outputs": [
    {
     "name": "stdout",
     "output_type": "stream",
     "text": [
      "Welcome to the Math Quiz Game!\n",
      "You will be presented with math problems, and you need to provide the correct answers.\n",
      "\n",
      "Question: 4 + 2\n",
      "Your answer: 6\n",
      "Correct! You earned a point.\n",
      "\n",
      "Question: 9 - 5\n",
      "Your answer: 4\n",
      "Correct! You earned a point.\n",
      "\n",
      "Question: 7 + 5\n",
      "Your answer: 12\n",
      "Correct! You earned a point.\n",
      "\n",
      "Game over! Your score is: 3/3\n"
     ]
    }
   ],
   "source": [
    "import random\n",
    "\n",
    "\n",
    "def function_A(min, max):\n",
    "    \"\"\"\n",
    "    Random integer.\n",
    "    \"\"\"\n",
    "    return random.randint(min, max)\n",
    "\n",
    "\n",
    "def function_B():\n",
    "    return random.choice(['+', '-', '*'])\n",
    "\n",
    "\n",
    "def function_C(n1, n2, o):\n",
    "    p = f\"{n1} {o} {n2}\"\n",
    "    if o == '+': a = n1 + n2\n",
    "    elif o == '-': a = n1 - n2\n",
    "    else: a = n1 * n2\n",
    "    return p, a\n",
    "\n",
    "def math_quiz():\n",
    "    s = 0\n",
    "    t_q = 3\n",
    "\n",
    "    print(\"Welcome to the Math Quiz Game!\")\n",
    "    print(\"You will be presented with math problems, and you need to provide the correct answers.\")\n",
    "\n",
    "    for _ in range(t_q):\n",
    "        n1 = function_A(1, 10); n2 = function_A(1, 5); o = function_B()\n",
    "\n",
    "        PROBLEM, ANSWER = function_C(n1, n2, o)\n",
    "        print(f\"\\nQuestion: {PROBLEM}\")\n",
    "        useranswer = input(\"Your answer: \")\n",
    "        useranswer = int(useranswer)\n",
    "\n",
    "        if useranswer == ANSWER:\n",
    "            print(\"Correct! You earned a point.\")\n",
    "            s += 1\n",
    "        else:\n",
    "            print(f\"Wrong answer. The correct answer is {ANSWER}.\")\n",
    "\n",
    "    print(f\"\\nGame over! Your score is: {s}/{t_q}\")\n",
    "\n",
    "if __name__ == \"__main__\":\n",
    "    math_quiz()\n"
   ]
  },
  {
   "cell_type": "code",
   "execution_count": 8,
   "id": "5e18d399",
   "metadata": {},
   "outputs": [
    {
     "name": "stderr",
     "output_type": "stream",
     "text": [
      "E\n",
      "======================================================================\n",
      "ERROR: C:\\Users\\Yaksheen kumar\\AppData\\Roaming\\jupyter\\runtime\\kernel-8e34c980-7ad2-45c3-8496-423437b87a26 (unittest.loader._FailedTest)\n",
      "----------------------------------------------------------------------\n",
      "AttributeError: module '__main__' has no attribute 'C:\\Users\\Yaksheen kumar\\AppData\\Roaming\\jupyter\\runtime\\kernel-8e34c980-7ad2-45c3-8496-423437b87a26'\n",
      "\n",
      "----------------------------------------------------------------------\n",
      "Ran 1 test in 0.001s\n",
      "\n",
      "FAILED (errors=1)\n"
     ]
    },
    {
     "ename": "SystemExit",
     "evalue": "True",
     "output_type": "error",
     "traceback": [
      "An exception has occurred, use %tb to see the full traceback.\n",
      "\u001b[1;31mSystemExit\u001b[0m\u001b[1;31m:\u001b[0m True\n"
     ]
    },
    {
     "name": "stderr",
     "output_type": "stream",
     "text": [
      "C:\\Users\\Yaksheen kumar\\anaconda3\\lib\\site-packages\\IPython\\core\\interactiveshell.py:3468: UserWarning: To exit: use 'exit', 'quit', or Ctrl-D.\n",
      "  warn(\"To exit: use 'exit', 'quit', or Ctrl-D.\", stacklevel=1)\n"
     ]
    }
   ],
   "source": [
    "import unittest\n",
    "from math_quiz import function_A, function_B, function_C\n",
    "\n",
    "class TestMathGame(unittest.TestCase):\n",
    "\n",
    "    def test_function_A(self):\n",
    "        # Test if random numbers generated are within the specified range\n",
    "        min_val = 1\n",
    "        max_val = 10\n",
    "        for _ in range(1000):  # Test a large number of random values\n",
    "            rand_num = function_A(min_val, max_val)\n",
    "            self.assertTrue(min_val <= rand_num <= max_val)\n",
    "\n",
    "    def test_function_B(self):\n",
    "        operators = {'+', '-', '*'}\n",
    "        for _ in range(1000):\n",
    "            rand_operator = function_B()\n",
    "            self.assertIn(rand_operator, operators)\n",
    "\n",
    "    def test_function_C(self):\n",
    "        test_cases = [(5, 2, '+', '5 + 2', 7),(8, 3, '*', '8 * 3', 24),(10, 4, '-', '10 - 4', 6),]\n",
    "\n",
    "        for num1, num2, operator, expected_problem, expected_answer in test_cases:\n",
    "            problem, answer = function_C(num1, num2, operator)  # Corrected function name\n",
    "            self.assertEqual(problem, expected_problem)\n",
    "            self.assertEqual(answer, expected_answer)\n",
    "\n",
    "if __name__ == \"__main__\":\n",
    "    unittest.main()\n"
   ]
  },
  {
   "cell_type": "code",
   "execution_count": null,
   "id": "8de151f5",
   "metadata": {},
   "outputs": [],
   "source": []
  }
 ],
 "metadata": {
  "kernelspec": {
   "display_name": "Python 3 (ipykernel)",
   "language": "python",
   "name": "python3"
  },
  "language_info": {
   "codemirror_mode": {
    "name": "ipython",
    "version": 3
   },
   "file_extension": ".py",
   "mimetype": "text/x-python",
   "name": "python",
   "nbconvert_exporter": "python",
   "pygments_lexer": "ipython3",
   "version": "3.10.9"
  }
 },
 "nbformat": 4,
 "nbformat_minor": 5
}
